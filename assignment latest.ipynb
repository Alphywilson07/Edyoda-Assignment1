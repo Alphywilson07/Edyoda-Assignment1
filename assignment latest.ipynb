{
 "cells": [
  {
   "cell_type": "code",
   "execution_count": 3,
   "id": "80b57e20",
   "metadata": {},
   "outputs": [
    {
     "name": "stdout",
     "output_type": "stream",
     "text": [
      "[(6, 5), (7, 4), (9, 2)]\n"
     ]
    }
   ],
   "source": [
    "# Q1. Here's a program in Python to find all pairs of an integer array whose sum is equal to a given number:\n",
    "\n",
    "def find_pairs(arr, target_sum):\n",
    "    pairs = []\n",
    "    seen = set()\n",
    "\n",
    "    for num in arr:\n",
    "        complement = target_sum - num\n",
    "        if complement in seen:\n",
    "            pairs.append((num, complement))\n",
    "        seen.add(num)\n",
    "\n",
    "    return pairs\n",
    "arr = [2, 4, 5, 6, 7, 8, 9]\n",
    "target_sum = 11\n",
    "print(find_pairs(arr, target_sum))  # [(4, 7), (5, 6)]\n"
   ]
  },
  {
   "cell_type": "code",
   "execution_count": 4,
   "id": "46ec6693",
   "metadata": {},
   "outputs": [
    {
     "name": "stdout",
     "output_type": "stream",
     "text": [
      "[5, 4, 3, 2, 1]\n"
     ]
    }
   ],
   "source": [
    "# Q2. Here's a program in Python to reverse an array in place:\n",
    "\n",
    "\n",
    "def reverse_array(arr):\n",
    "    start = 0\n",
    "    end = len(arr) - 1\n",
    "\n",
    "    while start < end:\n",
    "        arr[start], arr[end] = arr[end], arr[start]\n",
    "        start += 1\n",
    "        end -= 1\n",
    "\n",
    "arr = [1, 2, 3, 4, 5]\n",
    "reverse_array(arr)\n",
    "print(arr)  # [5, 4, 3, 2, 1]"
   ]
  },
  {
   "cell_type": "code",
   "execution_count": 5,
   "id": "f0c8888d",
   "metadata": {},
   "outputs": [
    {
     "ename": "SyntaxError",
     "evalue": "invalid syntax (2493042186.py, line 10)",
     "output_type": "error",
     "traceback": [
      "\u001b[1;36m  Cell \u001b[1;32mIn[5], line 10\u001b[1;36m\u001b[0m\n\u001b[1;33m    You can call this function with the two strings as arguments, like so:\u001b[0m\n\u001b[1;37m        ^\u001b[0m\n\u001b[1;31mSyntaxError\u001b[0m\u001b[1;31m:\u001b[0m invalid syntax\n"
     ]
    }
   ],
   "source": [
    "# Q3. Here's a program in Python to check if two strings are a rotation of each other:\n",
    "\n",
    "def is_rotation(s1, s2):\n",
    "    if len(s1) != len(s2):\n",
    "        return False\n",
    "    concatenated = s1 + s1\n",
    "    if s2 in concatenated:\n",
    "        return True\n",
    "    return False\n",
    "\n",
    "\n",
    "s1 = 'hello'\n",
    "s2 = 'lohel'\n",
    "print(is_rotation(s1, s2))  # True\n"
   ]
  },
  {
   "cell_type": "code",
   "execution_count": 6,
   "id": "75fd6f2a",
   "metadata": {},
   "outputs": [
    {
     "ename": "SyntaxError",
     "evalue": "unterminated string literal (detected at line 1) (2134160985.py, line 1)",
     "output_type": "error",
     "traceback": [
      "\u001b[1;36m  Cell \u001b[1;32mIn[6], line 1\u001b[1;36m\u001b[0m\n\u001b[1;33m    Q4. Here's a program in Python to print the first non-repeated character from a string:\u001b[0m\n\u001b[1;37m            ^\u001b[0m\n\u001b[1;31mSyntaxError\u001b[0m\u001b[1;31m:\u001b[0m unterminated string literal (detected at line 1)\n"
     ]
    }
   ],
   "source": [
    "Q4. Here's a program in Python to print the first non-repeated character from a string:\n",
    "\n",
    "def first_non_repeated_character(s):\n",
    "    counts = {}\n",
    "    for char in s:\n",
    "        if char in counts:\n",
    "            counts[char] += 1\n",
    "        else:\n",
    "            counts[char] = 1\n",
    "\n",
    "    for char in s:\n",
    "        if counts[char] == 1:\n",
    "            return char\n",
    "    return None\n",
    "\n",
    "s = 'hello world'\n",
    "print(first_non_repeated_character(s))  # 'h'\n",
    "\n",
    "\n",
    "\n",
    "\n"
   ]
  },
  {
   "cell_type": "code",
   "execution_count": 7,
   "id": "a76c32f1",
   "metadata": {},
   "outputs": [
    {
     "ename": "SyntaxError",
     "evalue": "unterminated string literal (detected at line 1) (973339072.py, line 1)",
     "output_type": "error",
     "traceback": [
      "\u001b[1;36m  Cell \u001b[1;32mIn[7], line 1\u001b[1;36m\u001b[0m\n\u001b[1;33m    Q5. The Tower of Hanoi is a classic recursive problem. Here's a program in Python to implement it:\u001b[0m\n\u001b[1;37m                                                               ^\u001b[0m\n\u001b[1;31mSyntaxError\u001b[0m\u001b[1;31m:\u001b[0m unterminated string literal (detected at line 1)\n"
     ]
    }
   ],
   "source": [
    "Q5. The Tower of Hanoi is a classic recursive problem. Here's a program in Python to implement it:\n",
    "\n",
    "def tower_of_hanoi(n, source, auxiliary, target):\n",
    "    if n == 1:\n",
    "        print(f\"Move disk 1 from {source} to {target}\")\n",
    "        return\n",
    "    tower_of_hanoi(n-1, source, target, auxiliary)\n",
    "    print(f\"Move disk {n} from {source} to {target}\")\n",
    "    tower_of_hanoi(n-1, auxiliary, source, target)\n",
    "\n",
    "tower_of_hanoi(3, 'A', 'B', 'C')"
   ]
  },
  {
   "cell_type": "code",
   "execution_count": 9,
   "id": "6c093468",
   "metadata": {},
   "outputs": [
    {
     "ename": "SyntaxError",
     "evalue": "unterminated string literal (detected at line 1) (1810816350.py, line 1)",
     "output_type": "error",
     "traceback": [
      "\u001b[1;36m  Cell \u001b[1;32mIn[9], line 1\u001b[1;36m\u001b[0m\n\u001b[1;33m    Q6. Infix, prefix, and postfix expressions are different ways of writing mathematical expressions. Here's a program in Python to convert postfix to prefix expression:\u001b[0m\n\u001b[1;37m                                                                                                           ^\u001b[0m\n\u001b[1;31mSyntaxError\u001b[0m\u001b[1;31m:\u001b[0m unterminated string literal (detected at line 1)\n"
     ]
    }
   ],
   "source": [
    "Q6. Infix, prefix, and postfix expressions are different ways of writing mathematical expressions. Here's a program in Python to convert postfix to prefix expression:\n",
    "\n",
    "def postfix_to_prefix(postfix):\n",
    "    stack = []\n",
    "    for token in postfix.split():\n",
    "        if token.isdigit():\n",
    "            stack.append(token)\n",
    "        else:\n",
    "            operand2 = stack.pop()\n",
    "            operand1 = stack.pop()\n",
    "            stack.append(f\"{token}{operand1}{operand2}\")\n",
    "    return stack.pop()\n",
    "\n",
    "postfix = '5 3 8 * 4 + -'\n",
    "print(postfix_to_prefix(postfix))  # '- + 5 * 3 8 4'\n"
   ]
  },
  {
   "cell_type": "code",
   "execution_count": 10,
   "id": "8e0a61d9",
   "metadata": {},
   "outputs": [
    {
     "ename": "SyntaxError",
     "evalue": "unterminated string literal (detected at line 1) (2594493637.py, line 1)",
     "output_type": "error",
     "traceback": [
      "\u001b[1;36m  Cell \u001b[1;32mIn[10], line 1\u001b[1;36m\u001b[0m\n\u001b[1;33m    Q7. Here's a program in Python to convert prefix expression to infix expression:\u001b[0m\n\u001b[1;37m            ^\u001b[0m\n\u001b[1;31mSyntaxError\u001b[0m\u001b[1;31m:\u001b[0m unterminated string literal (detected at line 1)\n"
     ]
    }
   ],
   "source": [
    "Q7. Here's a program in Python to convert prefix expression to infix expression:\n",
    "\n",
    "\n",
    "def prefix_to_infix(prefix):\n",
    "    stack = []\n",
    "    for token in reversed(prefix.split()):\n",
    "        if token.isdigit():\n",
    "            stack.append(token)\n",
    "        else:\n",
    "            operand1 = stack.pop()\n",
    "            operand2 = stack.pop()\n",
    "            stack.append(f\"({operand1} {token} {operand2})\")\n",
    "    return stack.pop()\n",
    "\n",
    "prefix = '- + * 5 3 8 4'\n",
    "print(prefix_to_infix(prefix))  # '((5 * 3) + 8) - 4'"
   ]
  },
  {
   "cell_type": "code",
   "execution_count": 11,
   "id": "7343365c",
   "metadata": {},
   "outputs": [
    {
     "ename": "SyntaxError",
     "evalue": "unterminated string literal (detected at line 1) (632639263.py, line 1)",
     "output_type": "error",
     "traceback": [
      "\u001b[1;36m  Cell \u001b[1;32mIn[11], line 1\u001b[1;36m\u001b[0m\n\u001b[1;33m    Q8. Here's a Python program to check if all the brackets are closed in a given code snippet using a stack:\u001b[0m\n\u001b[1;37m            ^\u001b[0m\n\u001b[1;31mSyntaxError\u001b[0m\u001b[1;31m:\u001b[0m unterminated string literal (detected at line 1)\n"
     ]
    }
   ],
   "source": [
    "Q8. Here's a Python program to check if all the brackets are closed in a given code snippet using a stack:\n",
    "\n",
    "\n",
    "def is_balanced(s):\n",
    "    stack = []\n",
    "    for char in s:\n",
    "        if char in [\"(\", \"{\", \"[\"]:\n",
    "            stack.append(char)\n",
    "        elif char in [\")\", \"}\", \"]\"]:\n",
    "            if not stack:\n",
    "                return False\n",
    "            if char == \")\" and stack[-1] == \"(\":\n",
    "                stack.pop()\n",
    "            elif char == \"}\" and stack[-1] == \"{\":\n",
    "                stack.pop()\n",
    "            elif char == \"]\" and stack[-1] == \"[\":\n",
    "                stack.pop()\n",
    "            else:\n",
    "                return False\n",
    "    return not stack\n",
    "\n",
    "code_snippet = input(\"Enter the code snippet: \")\n",
    "if is_balanced(code_snippet):\n",
    "    print(\"All brackets are closed.\")\n",
    "else:\n",
    "    print(\"Not all brackets are closed.\")"
   ]
  },
  {
   "cell_type": "code",
   "execution_count": 12,
   "id": "e05e2437",
   "metadata": {},
   "outputs": [
    {
     "ename": "SyntaxError",
     "evalue": "invalid syntax (2727934276.py, line 1)",
     "output_type": "error",
     "traceback": [
      "\u001b[1;36m  Cell \u001b[1;32mIn[12], line 1\u001b[1;36m\u001b[0m\n\u001b[1;33m    Q9. Here is an example program in Python to reverse a stack:\u001b[0m\n\u001b[1;37m                   ^\u001b[0m\n\u001b[1;31mSyntaxError\u001b[0m\u001b[1;31m:\u001b[0m invalid syntax\n"
     ]
    }
   ],
   "source": [
    "Q9. Here is an example program in Python to reverse a stack:\n",
    "\n",
    "def reverse_stack(stack):\n",
    "    if not stack:\n",
    "        return []\n",
    "    else:\n",
    "        # Pop the top element from the stack\n",
    "        top = stack.pop()\n",
    "\n",
    "        # Recursively call the reverse_stack function\n",
    "        # on the remaining stack\n",
    "        stack = reverse_stack(stack)\n",
    "\n",
    "        # Insert the popped element at the bottom of the stack\n",
    "        stack.append(top)\n",
    "\n",
    "        return stack"
   ]
  },
  {
   "cell_type": "code",
   "execution_count": null,
   "id": "b58a1671",
   "metadata": {},
   "outputs": [],
   "source": [
    "Q10. Here is an example program in Python to find the smallest number using a stack:\n",
    "\n",
    "def find_smallest(stack):\n",
    "    if not stack:\n",
    "        return None\n",
    "    else:\n",
    "        # Initialize the minimum value with the first element of the stack\n",
    "        min_val = stack.pop()\n",
    "\n",
    "        # Traverse the stack to find the minimum value\n",
    "        while stack:\n",
    "            # Pop the top element from the stack\n",
    "            current = stack.pop()\n",
    "\n",
    "            # Update the minimum value if the current element is smaller\n",
    "            if current < min_val:\n",
    "                min_val = current\n",
    "\n",
    "        return min_val"
   ]
  }
 ],
 "metadata": {
  "kernelspec": {
   "display_name": "Python 3 (ipykernel)",
   "language": "python",
   "name": "python3"
  },
  "language_info": {
   "codemirror_mode": {
    "name": "ipython",
    "version": 3
   },
   "file_extension": ".py",
   "mimetype": "text/x-python",
   "name": "python",
   "nbconvert_exporter": "python",
   "pygments_lexer": "ipython3",
   "version": "3.11.2"
  }
 },
 "nbformat": 4,
 "nbformat_minor": 5
}
